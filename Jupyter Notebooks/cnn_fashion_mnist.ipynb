{
  "nbformat": 4,
  "nbformat_minor": 0,
  "metadata": {
    "colab": {
      "name": "cnn-fashion-mnist.ipynb",
      "version": "0.3.2",
      "provenance": [],
      "collapsed_sections": []
    },
    "kernelspec": {
      "name": "python3",
      "display_name": "Python 3"
    },
    "accelerator": "GPU"
  },
  "cells": [
    {
      "metadata": {
        "id": "x4v1Xnp2f8B9",
        "colab_type": "text"
      },
      "cell_type": "markdown",
      "source": [
        "### Imports"
      ]
    },
    {
      "metadata": {
        "id": "6089lVOLf8B_",
        "colab_type": "code",
        "colab": {}
      },
      "cell_type": "code",
      "source": [
        "import keras # Importing Keras\n",
        "from keras import backend as K # Importing Keras backend (by default it is Tensorflow)\n",
        "from keras.datasets import fashion_mnist # Import the fashion-mnist dataset\n",
        "from keras.layers import Input, Conv2D, Dense, Dropout, Flatten, MaxPool2D # Layers to be used for building our model\n",
        "from keras.models import Model # The class used to create a model\n",
        "from keras.optimizers import SGD, RMSprop, Adam\n",
        "from keras.utils import np_utils # Utilities to manipulate numpy arrays\n",
        "from tensorflow import set_random_seed # Used for reproducible experiments\n",
        "from keras.preprocessing.image import ImageDataGenerator # Used for image dataset handling\n",
        "\n",
        "import gc\n",
        "import matplotlib.pyplot as plt\n",
        "import numpy as np\n",
        "%matplotlib inline"
      ],
      "execution_count": 0,
      "outputs": []
    },
    {
      "metadata": {
        "id": "iXjh3U0Nf8CF",
        "colab_type": "text"
      },
      "cell_type": "markdown",
      "source": [
        "### Data manipulation\n",
        "\n",
        "**Task**: Given an image decide if contains a car or a dog\n",
        "\n",
        "**[Data](https://drive.google.com/file/d/1Kjrrga40HkSAun63Gk9t7UClLJ0frqzE/view?usp=sharing)**:\n",
        "- The data are RGB images of arbitrary size that are resized to 64*64\n",
        "- We will use a CNN to classify them (no need to flatten as when using an MLP)\n",
        "- The values of the inputs are in [0, 255] so we normalize them to [0, 1]"
      ]
    },
    {
      "metadata": {
        "id": "VBIMcJGsf8CG",
        "colab_type": "code",
        "outputId": "74597a31-c185-467c-b8cf-5774b59fac8d",
        "colab": {
          "base_uri": "https://localhost:8080/",
          "height": 85
        }
      },
      "cell_type": "code",
      "source": [
        "batch_size = 128\n",
        "classes = 10\n",
        "epochs = 12\n",
        "\n",
        "# input image dimensions\n",
        "img_rows, img_cols = 28, 28\n",
        "\n",
        "# the data, split between train and test sets\n",
        "(x_train, y_train), (x_test, y_test) = fashion_mnist.load_data()\n",
        "\n",
        "if K.image_data_format() == 'channels_first':\n",
        "    x_train = x_train.reshape(x_train.shape[0], 1, img_rows, img_cols)\n",
        "    x_test = x_test.reshape(x_test.shape[0], 1, img_rows, img_cols)\n",
        "    input_shape = (1, img_rows, img_cols)\n",
        "else:\n",
        "    x_train = x_train.reshape(x_train.shape[0], img_rows, img_cols, 1)\n",
        "    x_test = x_test.reshape(x_test.shape[0], img_rows, img_cols, 1)\n",
        "    input_shape = (img_rows, img_cols, 1)\n",
        "\n",
        "x_train = x_train.astype('float32')\n",
        "x_test = x_test.astype('float32')\n",
        "x_train /= 255\n",
        "x_test /= 255\n",
        "\n",
        "print(input_shape)\n",
        "print('x_train shape:', x_train.shape)\n",
        "print(x_train.shape[0], 'train samples')\n",
        "print(x_test.shape[0], 'test samples')\n",
        "\n",
        "y_train = keras.utils.to_categorical(y_train, classes)\n",
        "y_test = keras.utils.to_categorical(y_test, classes)\n"
      ],
      "execution_count": 14,
      "outputs": [
        {
          "output_type": "stream",
          "text": [
            "(28, 28, 1)\n",
            "x_train shape: (60000, 28, 28, 1)\n",
            "60000 train samples\n",
            "10000 test samples\n"
          ],
          "name": "stdout"
        }
      ]
    },
    {
      "metadata": {
        "id": "1hgyun80f8CJ",
        "colab_type": "text"
      },
      "cell_type": "markdown",
      "source": [
        "### Plotting results"
      ]
    },
    {
      "metadata": {
        "id": "oW4h9EJ2f8CJ",
        "colab_type": "code",
        "colab": {}
      },
      "cell_type": "code",
      "source": [
        "def plot_history(hs, epochs, metric):\n",
        "    plt.clf()\n",
        "    plt.rcParams['figure.figsize'] = [10, 5]\n",
        "    plt.rcParams['font.size'] = 16\n",
        "    for label in hs:\n",
        "        plt.plot(hs[label].history[metric], label='{0:s} train {1:s}'.format(label, metric))\n",
        "        plt.plot(hs[label].history['val_{0:s}'.format(metric)], label='{0:s} validation {1:s}'.format(label, metric))\n",
        "    x_ticks = np.arange(0, epochs + 1)\n",
        "    x_ticks [0] += 1\n",
        "    plt.xticks(x_ticks)\n",
        "    plt.ylim((0, 1))\n",
        "    plt.xlabel('Epochs')\n",
        "    plt.ylabel('Loss' if metric=='loss' else 'Accuracy')\n",
        "    plt.legend()\n",
        "    plt.show()\n"
      ],
      "execution_count": 0,
      "outputs": []
    },
    {
      "metadata": {
        "id": "qk4w10wUf8CM",
        "colab_type": "text"
      },
      "cell_type": "markdown",
      "source": [
        "### Cleaning up"
      ]
    },
    {
      "metadata": {
        "id": "Y9DDLBBAf8CM",
        "colab_type": "code",
        "colab": {}
      },
      "cell_type": "code",
      "source": [
        "def clean_up(model):\n",
        "    K.clear_session()\n",
        "    del model\n",
        "    gc.collect()\n"
      ],
      "execution_count": 0,
      "outputs": []
    },
    {
      "metadata": {
        "id": "t3EScnbUf8CO",
        "colab_type": "text"
      },
      "cell_type": "markdown",
      "source": [
        "### Model creation\n",
        "\n",
        "- We will use a Functional Model.\n",
        "    - It is more flexible than the `Sequential` model but ...\n",
        "    - We need to be careful with the sizes of the layers.\n",
        "- The first layer should always be an `Input` layer where we specify the input of the model, e.g., the training data\n",
        "- The other layers can be whatever we want and for each layer we must:\n",
        "    - Define the input to the layer, i.e., another layer.\n",
        "    - Define the number of units which also defines the output size.\n",
        "        - The output size must be always equal to the number of units of the next layer.\n"
      ]
    },
    {
      "metadata": {
        "id": "C8jXKxfqf8CP",
        "colab_type": "code",
        "colab": {}
      },
      "cell_type": "code",
      "source": [
        "def train_model(\n",
        "        optimizer,\n",
        "        epochs=100,\n",
        "        conv_layers=2,\n",
        "        conv_activation='relu',\n",
        "        conv_dropout=False,\n",
        "        output_activation='softmax'):\n",
        "    \n",
        "    np.random.seed(1402) # Define the seed for numpy to have reproducible experiments.\n",
        "    set_random_seed(1981) # Define the seed for Tensorflow to have reproducible experiments.\n",
        "    \n",
        "    # Define the input layer.\n",
        "    input = Input(\n",
        "        shape=input_shape,\n",
        "        name='Input'\n",
        "    )\n",
        "\n",
        "    x = input\n",
        "    # Define the convolutional layers.\n",
        "    for i in range(conv_layers):\n",
        "        x = Conv2D(\n",
        "            filters=8*(2**i),\n",
        "            kernel_size=(3, 3),\n",
        "            strides=(1, 1),\n",
        "            padding='same',\n",
        "            dilation_rate=(1, 1),\n",
        "            activation=conv_activation,\n",
        "            name='Conv2D-{0:d}'.format(i + 1)\n",
        "        )(x)\n",
        "        x = MaxPool2D(\n",
        "            pool_size=(2, 2),\n",
        "            strides=(2, 2),\n",
        "            padding='same',\n",
        "            name='MaxPool2D-{0:d}'.format(i + 1)\n",
        "        )(x)\n",
        "        if conv_dropout:\n",
        "            x = Dropout(\n",
        "                rate=0.2,\n",
        "                name='Dropout-{0:d}'.format(i + 1)\n",
        "            )(x)\n",
        "        elif conv_dropout==0.5:\n",
        "            x = Dropout(\n",
        "                rate=0.5,\n",
        "                name='Dropout-{0:d}'.format(i + 1)\n",
        "            )(x)\n",
        "    # Flatten the convolved images so as to input them to a Dense Layer\n",
        "    x = Flatten(name='Flatten')(x)\n",
        "    \n",
        "    # Define the output layer.\n",
        "    output = Dense(\n",
        "        units=classes,\n",
        "        activation=output_activation,\n",
        "        name='Output'\n",
        "    )(x)\n",
        "\n",
        "     # Define the model and train it.\n",
        "    model = Model(inputs=input, outputs=output)\n",
        "    model.compile(optimizer=optimizer, loss='binary_crossentropy', metrics=['accuracy'])\n",
        "    \n",
        "    hs = model.fit(x_train, y_train,\n",
        "          #validation_split=0.2,\n",
        "          batch_size=batch_size,\n",
        "          epochs=epochs,\n",
        "          verbose=1,\n",
        "          validation_data=(x_test, y_test))\n",
        "    print('Finished training.')\n",
        "    print('------------------')\n",
        "    model.summary() # Print a description of the model.\n",
        "    return model, hs\n"
      ],
      "execution_count": 0,
      "outputs": []
    },
    {
      "metadata": {
        "id": "DevFfbq7f8CR",
        "colab_type": "text"
      },
      "cell_type": "markdown",
      "source": [
        "### Without dropout"
      ]
    },
    {
      "metadata": {
        "scrolled": false,
        "id": "9mhWK6ftf8CS",
        "colab_type": "code",
        "outputId": "e6571944-3a15-477a-9a38-b080870144ed",
        "colab": {
          "base_uri": "https://localhost:8080/",
          "height": 918
        }
      },
      "cell_type": "code",
      "source": [
        "# Using Adam\n",
        "optimizer = Adam(lr=0.001)\n",
        "\n",
        "# 3 Convolutional Layers and Logistic Regression\n",
        "conv_no_drop_model_adam, conv_no_drop_hs_adam = train_model(\n",
        "    optimizer=optimizer,\n",
        "    epochs=epochs,\n",
        "    conv_layers=3,\n",
        "    conv_activation='relu',\n",
        "    conv_dropout=False,\n",
        "    #output_activation='sigmoid'\n",
        ")\n",
        "\n",
        "# Evaluate on test data and show all the results.\n",
        "conv_no_drop_eval_adam = conv_no_drop_model_adam.evaluate(\n",
        "    x_test,\n",
        "    y_test,\n",
        "    verbose=1\n",
        ")\n",
        "\n",
        "clean_up(model=conv_no_drop_model_adam)"
      ],
      "execution_count": 35,
      "outputs": [
        {
          "output_type": "stream",
          "text": [
            "Train on 60000 samples, validate on 10000 samples\n",
            "Epoch 1/12\n",
            "60000/60000 [==============================] - 5s 88us/step - loss: 0.1186 - acc: 0.9529 - val_loss: 0.0863 - val_acc: 0.9655\n",
            "Epoch 2/12\n",
            "60000/60000 [==============================] - 5s 84us/step - loss: 0.0768 - acc: 0.9693 - val_loss: 0.0729 - val_acc: 0.9709\n",
            "Epoch 3/12\n",
            "60000/60000 [==============================] - 5s 85us/step - loss: 0.0673 - acc: 0.9734 - val_loss: 0.0681 - val_acc: 0.9729\n",
            "Epoch 4/12\n",
            "60000/60000 [==============================] - 5s 84us/step - loss: 0.0628 - acc: 0.9753 - val_loss: 0.0638 - val_acc: 0.9752\n",
            "Epoch 5/12\n",
            "60000/60000 [==============================] - 5s 84us/step - loss: 0.0593 - acc: 0.9769 - val_loss: 0.0618 - val_acc: 0.9758\n",
            "Epoch 6/12\n",
            "60000/60000 [==============================] - 5s 84us/step - loss: 0.0561 - acc: 0.9780 - val_loss: 0.0595 - val_acc: 0.9769\n",
            "Epoch 7/12\n",
            "60000/60000 [==============================] - 5s 84us/step - loss: 0.0541 - acc: 0.9788 - val_loss: 0.0594 - val_acc: 0.9769\n",
            "Epoch 8/12\n",
            "60000/60000 [==============================] - 5s 84us/step - loss: 0.0524 - acc: 0.9797 - val_loss: 0.0554 - val_acc: 0.9787\n",
            "Epoch 9/12\n",
            "60000/60000 [==============================] - 5s 84us/step - loss: 0.0507 - acc: 0.9804 - val_loss: 0.0568 - val_acc: 0.9777\n",
            "Epoch 10/12\n",
            "60000/60000 [==============================] - 5s 84us/step - loss: 0.0491 - acc: 0.9808 - val_loss: 0.0541 - val_acc: 0.9790\n",
            "Epoch 11/12\n",
            "60000/60000 [==============================] - 5s 84us/step - loss: 0.0478 - acc: 0.9813 - val_loss: 0.0541 - val_acc: 0.9790\n",
            "Epoch 12/12\n",
            "60000/60000 [==============================] - 5s 84us/step - loss: 0.0466 - acc: 0.9820 - val_loss: 0.0515 - val_acc: 0.9801\n",
            "Finished training.\n",
            "------------------\n",
            "_________________________________________________________________\n",
            "Layer (type)                 Output Shape              Param #   \n",
            "=================================================================\n",
            "Input (InputLayer)           (None, 28, 28, 1)         0         \n",
            "_________________________________________________________________\n",
            "Conv2D-1 (Conv2D)            (None, 28, 28, 8)         80        \n",
            "_________________________________________________________________\n",
            "MaxPool2D-1 (MaxPooling2D)   (None, 14, 14, 8)         0         \n",
            "_________________________________________________________________\n",
            "Conv2D-2 (Conv2D)            (None, 14, 14, 16)        1168      \n",
            "_________________________________________________________________\n",
            "MaxPool2D-2 (MaxPooling2D)   (None, 7, 7, 16)          0         \n",
            "_________________________________________________________________\n",
            "Conv2D-3 (Conv2D)            (None, 7, 7, 32)          4640      \n",
            "_________________________________________________________________\n",
            "MaxPool2D-3 (MaxPooling2D)   (None, 4, 4, 32)          0         \n",
            "_________________________________________________________________\n",
            "Flatten (Flatten)            (None, 512)               0         \n",
            "_________________________________________________________________\n",
            "Output (Dense)               (None, 10)                5130      \n",
            "=================================================================\n",
            "Total params: 11,018\n",
            "Trainable params: 11,018\n",
            "Non-trainable params: 0\n",
            "_________________________________________________________________\n",
            "10000/10000 [==============================] - 1s 74us/step\n"
          ],
          "name": "stdout"
        }
      ]
    },
    {
      "metadata": {
        "id": "ItZ8t3RDf8CW",
        "colab_type": "text"
      },
      "cell_type": "markdown",
      "source": [
        "### Results without dropout"
      ]
    },
    {
      "metadata": {
        "id": "7vwt3T2df8CW",
        "colab_type": "code",
        "outputId": "4332b09c-cefb-4254-a540-fd32730bd8a7",
        "colab": {
          "base_uri": "https://localhost:8080/",
          "height": 778
        }
      },
      "cell_type": "code",
      "source": [
        "print(\"Train Loss     : {0:.5f}\".format(conv_no_drop_hs_adam.history['loss'][-1]))\n",
        "print(\"Validation Loss: {0:.5f}\".format(conv_no_drop_hs_adam.history['val_loss'][-1]))\n",
        "print(\"Test Loss      : {0:.5f}\".format(conv_no_drop_eval_adam[0]))\n",
        "print(\"---\")\n",
        "print(\"Train Accuracy     : {0:.5f}\".format(conv_no_drop_hs_adam.history['acc'][-1]))\n",
        "print(\"Validation Accuracy: {0:.5f}\".format(conv_no_drop_hs_adam.history['val_acc'][-1]))\n",
        "print(\"Test Accuracy      : {0:.5f}\".format(conv_no_drop_eval_adam[1]))\n",
        "\n",
        "\n",
        "# Plot train and validation error per epoch.\n",
        "plot_history(hs={'Conv No Drop': conv_no_drop_hs_adam}, epochs=epochs, metric='loss')\n",
        "plot_history(hs={'Conv No Drop': conv_no_drop_hs_adam}, epochs=epochs, metric='acc')"
      ],
      "execution_count": 36,
      "outputs": [
        {
          "output_type": "stream",
          "text": [
            "Train Loss     : 0.04657\n",
            "Validation Loss: 0.05146\n",
            "Test Loss      : 0.05146\n",
            "---\n",
            "Train Accuracy     : 0.98195\n",
            "Validation Accuracy: 0.98013\n",
            "Test Accuracy      : 0.98013\n"
          ],
          "name": "stdout"
        },
        {
          "output_type": "display_data",
          "data": {
            "image/png": "[encoded data removed]",
            "text/plain": [
              "<Figure size 720x360 with 1 Axes>"
            ]
          },
          "metadata": {
            "tags": []
          }
        },
        {
          "output_type": "display_data",
          "data": {
            "image/png": "[encoded data removed]",
            "text/plain": [
              "<Figure size 720x360 with 1 Axes>"
            ]
          },
          "metadata": {
            "tags": []
          }
        }
      ]
    },
    {
      "metadata": {
        "id": "0z1Rg6nwf8Ca",
        "colab_type": "text"
      },
      "cell_type": "markdown",
      "source": [
        "### With dropout 0.2"
      ]
    },
    {
      "metadata": {
        "scrolled": false,
        "id": "j9r-jJ-if8Ca",
        "colab_type": "code",
        "colab": {
          "base_uri": "https://localhost:8080/",
          "height": 1020
        },
        "outputId": "cb4651d7-ef98-4142-8d68-7f65bad1c31e"
      },
      "cell_type": "code",
      "source": [
        "# Using Adam\n",
        "optimizer = Adam()\n",
        "\n",
        "# 3 Convolutional Layers and Logistic Regression\n",
        "conv_drop_model_adam, conv_drop_hs_adam = train_model(\n",
        "    optimizer=optimizer,\n",
        "    epochs=epochs,\n",
        "    conv_layers=3,\n",
        "    conv_activation='relu',\n",
        "    conv_dropout=True,\n",
        "    output_activation='sigmoid'\n",
        ")\n",
        "\n",
        "# Evaluate on test data and show all the results.\n",
        "conv_drop_eval_adam = conv_drop_model_adam.evaluate(\n",
        "    x_test,\n",
        "    y_test,\n",
        "    verbose=1\n",
        ")\n",
        "\n",
        "clean_up(model=conv_drop_model_adam)"
      ],
      "execution_count": 21,
      "outputs": [
        {
          "output_type": "stream",
          "text": [
            "Train on 60000 samples, validate on 10000 samples\n",
            "Epoch 1/12\n",
            "60000/60000 [==============================] - 11s 186us/step - loss: 0.1868 - acc: 0.9294 - val_loss: 0.1055 - val_acc: 0.9577\n",
            "Epoch 2/12\n",
            "60000/60000 [==============================] - 10s 170us/step - loss: 0.1049 - acc: 0.9576 - val_loss: 0.0889 - val_acc: 0.9654\n",
            "Epoch 3/12\n",
            "60000/60000 [==============================] - 10s 166us/step - loss: 0.0926 - acc: 0.9629 - val_loss: 0.0810 - val_acc: 0.9687\n",
            "Epoch 4/12\n",
            "60000/60000 [==============================] - 10s 169us/step - loss: 0.0858 - acc: 0.9657 - val_loss: 0.0755 - val_acc: 0.9712\n",
            "Epoch 5/12\n",
            "60000/60000 [==============================] - 10s 169us/step - loss: 0.0811 - acc: 0.9680 - val_loss: 0.0729 - val_acc: 0.9717\n",
            "Epoch 6/12\n",
            "60000/60000 [==============================] - 6s 94us/step - loss: 0.0779 - acc: 0.9690 - val_loss: 0.0697 - val_acc: 0.9735\n",
            "Epoch 7/12\n",
            "60000/60000 [==============================] - 5s 87us/step - loss: 0.0754 - acc: 0.9701 - val_loss: 0.0674 - val_acc: 0.9740\n",
            "Epoch 8/12\n",
            "60000/60000 [==============================] - 5s 91us/step - loss: 0.0734 - acc: 0.9707 - val_loss: 0.0655 - val_acc: 0.9747\n",
            "Epoch 9/12\n",
            "60000/60000 [==============================] - 5s 92us/step - loss: 0.0716 - acc: 0.9716 - val_loss: 0.0639 - val_acc: 0.9757\n",
            "Epoch 10/12\n",
            "60000/60000 [==============================] - 5s 91us/step - loss: 0.0698 - acc: 0.9724 - val_loss: 0.0634 - val_acc: 0.9753\n",
            "Epoch 11/12\n",
            "60000/60000 [==============================] - 5s 91us/step - loss: 0.0695 - acc: 0.9725 - val_loss: 0.0619 - val_acc: 0.9766\n",
            "Epoch 12/12\n",
            "60000/60000 [==============================] - 6s 94us/step - loss: 0.0675 - acc: 0.9734 - val_loss: 0.0619 - val_acc: 0.9760\n",
            "Finished training.\n",
            "------------------\n",
            "_________________________________________________________________\n",
            "Layer (type)                 Output Shape              Param #   \n",
            "=================================================================\n",
            "Input (InputLayer)           (None, 28, 28, 1)         0         \n",
            "_________________________________________________________________\n",
            "Conv2D-1 (Conv2D)            (None, 28, 28, 8)         80        \n",
            "_________________________________________________________________\n",
            "MaxPool2D-1 (MaxPooling2D)   (None, 14, 14, 8)         0         \n",
            "_________________________________________________________________\n",
            "Dropout-1 (Dropout)          (None, 14, 14, 8)         0         \n",
            "_________________________________________________________________\n",
            "Conv2D-2 (Conv2D)            (None, 14, 14, 16)        1168      \n",
            "_________________________________________________________________\n",
            "MaxPool2D-2 (MaxPooling2D)   (None, 7, 7, 16)          0         \n",
            "_________________________________________________________________\n",
            "Dropout-2 (Dropout)          (None, 7, 7, 16)          0         \n",
            "_________________________________________________________________\n",
            "Conv2D-3 (Conv2D)            (None, 7, 7, 32)          4640      \n",
            "_________________________________________________________________\n",
            "MaxPool2D-3 (MaxPooling2D)   (None, 4, 4, 32)          0         \n",
            "_________________________________________________________________\n",
            "Dropout-3 (Dropout)          (None, 4, 4, 32)          0         \n",
            "_________________________________________________________________\n",
            "Flatten (Flatten)            (None, 512)               0         \n",
            "_________________________________________________________________\n",
            "Output (Dense)               (None, 10)                5130      \n",
            "=================================================================\n",
            "Total params: 11,018\n",
            "Trainable params: 11,018\n",
            "Non-trainable params: 0\n",
            "_________________________________________________________________\n",
            "10000/10000 [==============================] - 1s 82us/step\n"
          ],
          "name": "stdout"
        }
      ]
    },
    {
      "metadata": {
        "id": "YRNXiVbHf8Cd",
        "colab_type": "text"
      },
      "cell_type": "markdown",
      "source": [
        "### No dropout vs. dropout = 0.2"
      ]
    },
    {
      "metadata": {
        "id": "wAZkE3kLf8Cd",
        "colab_type": "code",
        "colab": {
          "base_uri": "https://localhost:8080/",
          "height": 778
        },
        "outputId": "17a1a684-ae19-4605-dd2c-878af8f57809"
      },
      "cell_type": "code",
      "source": [
        "print(\"Train Loss     : {0:.5f}\".format(conv_drop_hs_adam.history['loss'][-1]))\n",
        "print(\"Validation Loss: {0:.5f}\".format(conv_drop_hs_adam.history['val_loss'][-1]))\n",
        "print(\"Test Loss      : {0:.5f}\".format(conv_drop_eval_adam[0]))\n",
        "print(\"---\")\n",
        "print(\"Train Accuracy     : {0:.5f}\".format(conv_drop_hs_adam.history['acc'][-1]))\n",
        "print(\"Validation Accuracy: {0:.5f}\".format(conv_drop_hs_adam.history['val_acc'][-1]))\n",
        "print(\"Test Accuracy      : {0:.5f}\".format(conv_drop_eval_adam[1]))\n",
        "\n",
        "\n",
        "# Plot train and validation error per epoch.\n",
        "plot_history(\n",
        "    hs={\n",
        "        'Conv No Drop': conv_no_drop_hs_adam,\n",
        "        'Conv Drop (0.2)': conv_drop_hs_adam\n",
        "    },\n",
        "    epochs=epochs,\n",
        "    metric='loss'\n",
        ")\n",
        "plot_history(\n",
        "    hs={\n",
        "        'Conv No Drop': conv_no_drop_hs_adam,\n",
        "        'Conv Drop (0.2)': conv_drop_hs_adam\n",
        "    },\n",
        "    epochs=epochs,\n",
        "    metric='acc'\n",
        ")"
      ],
      "execution_count": 22,
      "outputs": [
        {
          "output_type": "stream",
          "text": [
            "Train Loss     : 0.06755\n",
            "Validation Loss: 0.06195\n",
            "Test Loss      : 0.06195\n",
            "---\n",
            "Train Accuracy     : 0.97343\n",
            "Validation Accuracy: 0.97595\n",
            "Test Accuracy      : 0.97595\n"
          ],
          "name": "stdout"
        },
        {
          "output_type": "display_data",
          "data": {
            "image/png": "[encoded data removed]",
            "text/plain": [
              "<Figure size 720x360 with 1 Axes>"
            ]
          },
          "metadata": {
            "tags": []
          }
        },
        {
          "output_type": "display_data",
          "data": {
            "image/png": "[encoded data removed]",
            "text/plain": [
              "<Figure size 720x360 with 1 Axes>"
            ]
          },
          "metadata": {
            "tags": []
          }
        }
      ]
    },
    {
      "metadata": {
        "id": "7ZkMc73Fonlq",
        "colab_type": "text"
      },
      "cell_type": "markdown",
      "source": [
        "**With dropout 0.5**"
      ]
    },
    {
      "metadata": {
        "id": "Ivvkbgn1osej",
        "colab_type": "code",
        "colab": {
          "base_uri": "https://localhost:8080/",
          "height": 1020
        },
        "outputId": "1bb3f609-5e5c-42c7-de34-e9b78f607145"
      },
      "cell_type": "code",
      "source": [
        "# Using Adam\n",
        "optimizer = Adam()\n",
        "\n",
        "# 3 Convolutional Layers and Logistic Regression\n",
        "conv_drop05_model_adam, conv_drop05_hs_adam = train_model(\n",
        "    optimizer=optimizer,\n",
        "    epochs=epochs,\n",
        "    conv_layers=3,\n",
        "    conv_activation='relu',\n",
        "    conv_dropout=0.5,\n",
        "    output_activation='sigmoid'\n",
        ")\n",
        "\n",
        "# Evaluate on test data and show all the results.\n",
        "conv_drop05_eval_adam = conv_drop05_model_adam.evaluate(\n",
        "    x_test,\n",
        "    y_test,\n",
        "    verbose=1\n",
        ")\n",
        "\n",
        "clean_up(model=conv_drop_model_adam)"
      ],
      "execution_count": 23,
      "outputs": [
        {
          "output_type": "stream",
          "text": [
            "Train on 60000 samples, validate on 10000 samples\n",
            "Epoch 1/12\n",
            "60000/60000 [==============================] - 6s 96us/step - loss: 0.1868 - acc: 0.9294 - val_loss: 0.1055 - val_acc: 0.9577\n",
            "Epoch 2/12\n",
            "60000/60000 [==============================] - 5s 91us/step - loss: 0.1049 - acc: 0.9576 - val_loss: 0.0888 - val_acc: 0.9654\n",
            "Epoch 3/12\n",
            "60000/60000 [==============================] - 6s 92us/step - loss: 0.0925 - acc: 0.9629 - val_loss: 0.0810 - val_acc: 0.9687\n",
            "Epoch 4/12\n",
            "60000/60000 [==============================] - 6s 92us/step - loss: 0.0857 - acc: 0.9657 - val_loss: 0.0754 - val_acc: 0.9712\n",
            "Epoch 5/12\n",
            "60000/60000 [==============================] - 5s 92us/step - loss: 0.0811 - acc: 0.9680 - val_loss: 0.0729 - val_acc: 0.9719\n",
            "Epoch 6/12\n",
            "60000/60000 [==============================] - 5s 91us/step - loss: 0.0779 - acc: 0.9691 - val_loss: 0.0697 - val_acc: 0.9736\n",
            "Epoch 7/12\n",
            "60000/60000 [==============================] - 6s 92us/step - loss: 0.0754 - acc: 0.9702 - val_loss: 0.0674 - val_acc: 0.9742\n",
            "Epoch 8/12\n",
            "60000/60000 [==============================] - 6s 92us/step - loss: 0.0734 - acc: 0.9708 - val_loss: 0.0654 - val_acc: 0.9748\n",
            "Epoch 9/12\n",
            "60000/60000 [==============================] - 6s 92us/step - loss: 0.0716 - acc: 0.9716 - val_loss: 0.0638 - val_acc: 0.9756\n",
            "Epoch 10/12\n",
            "60000/60000 [==============================] - 6s 92us/step - loss: 0.0697 - acc: 0.9724 - val_loss: 0.0634 - val_acc: 0.9754\n",
            "Epoch 11/12\n",
            "60000/60000 [==============================] - 6s 92us/step - loss: 0.0694 - acc: 0.9726 - val_loss: 0.0619 - val_acc: 0.9765\n",
            "Epoch 12/12\n",
            "60000/60000 [==============================] - 5s 91us/step - loss: 0.0675 - acc: 0.9735 - val_loss: 0.0614 - val_acc: 0.9763\n",
            "Finished training.\n",
            "------------------\n",
            "_________________________________________________________________\n",
            "Layer (type)                 Output Shape              Param #   \n",
            "=================================================================\n",
            "Input (InputLayer)           (None, 28, 28, 1)         0         \n",
            "_________________________________________________________________\n",
            "Conv2D-1 (Conv2D)            (None, 28, 28, 8)         80        \n",
            "_________________________________________________________________\n",
            "MaxPool2D-1 (MaxPooling2D)   (None, 14, 14, 8)         0         \n",
            "_________________________________________________________________\n",
            "Dropout-1 (Dropout)          (None, 14, 14, 8)         0         \n",
            "_________________________________________________________________\n",
            "Conv2D-2 (Conv2D)            (None, 14, 14, 16)        1168      \n",
            "_________________________________________________________________\n",
            "MaxPool2D-2 (MaxPooling2D)   (None, 7, 7, 16)          0         \n",
            "_________________________________________________________________\n",
            "Dropout-2 (Dropout)          (None, 7, 7, 16)          0         \n",
            "_________________________________________________________________\n",
            "Conv2D-3 (Conv2D)            (None, 7, 7, 32)          4640      \n",
            "_________________________________________________________________\n",
            "MaxPool2D-3 (MaxPooling2D)   (None, 4, 4, 32)          0         \n",
            "_________________________________________________________________\n",
            "Dropout-3 (Dropout)          (None, 4, 4, 32)          0         \n",
            "_________________________________________________________________\n",
            "Flatten (Flatten)            (None, 512)               0         \n",
            "_________________________________________________________________\n",
            "Output (Dense)               (None, 10)                5130      \n",
            "=================================================================\n",
            "Total params: 11,018\n",
            "Trainable params: 11,018\n",
            "Non-trainable params: 0\n",
            "_________________________________________________________________\n",
            "10000/10000 [==============================] - 1s 75us/step\n"
          ],
          "name": "stdout"
        }
      ]
    },
    {
      "metadata": {
        "id": "sf-k7fGgp_lk",
        "colab_type": "text"
      },
      "cell_type": "markdown",
      "source": [
        "**No dropout vs. dropout = 0.5**"
      ]
    },
    {
      "metadata": {
        "id": "3AGI7SFIpp1o",
        "colab_type": "code",
        "colab": {
          "base_uri": "https://localhost:8080/",
          "height": 778
        },
        "outputId": "98304b21-df05-4be9-cdc8-d6799546c720"
      },
      "cell_type": "code",
      "source": [
        "print(\"Train Loss     : {0:.5f}\".format(conv_drop05_hs_adam.history['loss'][-1]))\n",
        "print(\"Validation Loss: {0:.5f}\".format(conv_drop05_hs_adam.history['val_loss'][-1]))\n",
        "print(\"Test Loss      : {0:.5f}\".format(conv_drop05_eval_adam[0]))\n",
        "print(\"---\")\n",
        "print(\"Train Accuracy     : {0:.5f}\".format(conv_drop05_hs_adam.history['acc'][-1]))\n",
        "print(\"Validation Accuracy: {0:.5f}\".format(conv_drop05_hs_adam.history['val_acc'][-1]))\n",
        "print(\"Test Accuracy      : {0:.5f}\".format(conv_drop05_eval_adam[1]))\n",
        "\n",
        "\n",
        "# Plot train and validation error per epoch.\n",
        "plot_history(\n",
        "    hs={\n",
        "        'Conv No Drop': conv_no_drop_hs_adam,\n",
        "        'Conv Drop (0.5)': conv_drop05_hs_adam\n",
        "    },\n",
        "    epochs=epochs,\n",
        "    metric='loss'\n",
        ")\n",
        "plot_history(\n",
        "    hs={\n",
        "        'Conv No Drop': conv_no_drop_hs_adam,\n",
        "        'Conv Drop (0.5)': conv_drop05_hs_adam\n",
        "    },\n",
        "    epochs=epochs,\n",
        "    metric='acc'\n",
        ")"
      ],
      "execution_count": 24,
      "outputs": [
        {
          "output_type": "stream",
          "text": [
            "Train Loss     : 0.06754\n",
            "Validation Loss: 0.06140\n",
            "Test Loss      : 0.06140\n",
            "---\n",
            "Train Accuracy     : 0.97347\n",
            "Validation Accuracy: 0.97631\n",
            "Test Accuracy      : 0.97631\n"
          ],
          "name": "stdout"
        },
        {
          "output_type": "display_data",
          "data": {
            "image/png": "[encoded data removed]",
            "text/plain": [
              "<Figure size 720x360 with 1 Axes>"
            ]
          },
          "metadata": {
            "tags": []
          }
        },
        {
          "output_type": "display_data",
          "data": {
            "image/png": "[encoded data removed]",
            "text/plain": [
              "<Figure size 720x360 with 1 Axes>"
            ]
          },
          "metadata": {
            "tags": []
          }
        }
      ]
    },
    {
      "metadata": {
        "id": "96pYf8a2f8Ch",
        "colab_type": "code",
        "colab": {}
      },
      "cell_type": "code",
      "source": [
        "exit()"
      ],
      "execution_count": 0,
      "outputs": []
    },
    {
      "metadata": {
        "id": "D0z5oHtqf8Ck",
        "colab_type": "code",
        "colab": {}
      },
      "cell_type": "code",
      "source": [
        ""
      ],
      "execution_count": 0,
      "outputs": []
    }
  ]
}